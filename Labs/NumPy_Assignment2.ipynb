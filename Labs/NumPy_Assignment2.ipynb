{
 "cells": [
  {
   "cell_type": "markdown",
   "id": "5ffb93ae",
   "metadata": {},
   "source": [
    "# Q1: Import numpy library"
   ]
  },
  {
   "cell_type": "code",
   "execution_count": 2,
   "id": "936d4703",
   "metadata": {},
   "outputs": [],
   "source": [
    "import numpy as np"
   ]
  },
  {
   "cell_type": "markdown",
   "id": "b6991a89",
   "metadata": {},
   "source": [
    "# Q2: Generate a sequence of 15 floats using linspace() function"
   ]
  },
  {
   "cell_type": "code",
   "execution_count": 3,
   "id": "43bf04a5",
   "metadata": {},
   "outputs": [
    {
     "data": {
      "text/plain": [
       "array([ 0.        ,  1.07142857,  2.14285714,  3.21428571,  4.28571429,\n",
       "        5.35714286,  6.42857143,  7.5       ,  8.57142857,  9.64285714,\n",
       "       10.71428571, 11.78571429, 12.85714286, 13.92857143, 15.        ])"
      ]
     },
     "execution_count": 3,
     "metadata": {},
     "output_type": "execute_result"
    }
   ],
   "source": [
    "# Generate a sequence of 15 floats between a specified range\n",
    "#np.linspace(start, stop, num)\n",
    "float_sequence = np.linspace(0, 15, num=15)\n",
    "float_sequence"
   ]
  },
  {
   "cell_type": "markdown",
   "id": "7144bba8",
   "metadata": {},
   "source": [
    "# Q3: Create a 3-D array in shape (2, 2, 3) containing the four arrays given below \n",
    "Note : the array's name is up to you.\n",
    "\n",
    "|      |       |          |         |\n",
    "|------| ----- | -------- | ------- |\n",
    "|arr1 | 1.1    | 2.1       | 3.1        |\n",
    "|arr2 | 4.1    | 5.1       | 6.1        |\n",
    "|arr3 | 7.1    | 8.1       | 9.1        |\n",
    "|arr4 | 10.1   | 11.1      | 12.1       |"
   ]
  },
  {
   "cell_type": "code",
   "execution_count": 4,
   "id": "c1c3f9dc",
   "metadata": {},
   "outputs": [
    {
     "data": {
      "text/plain": [
       "array([[[ 1.1,  2.1,  3.1],\n",
       "        [ 4.1,  5.1,  6.1]],\n",
       "\n",
       "       [[ 7.1,  8.1,  9.1],\n",
       "        [10.1, 11.1, 12.1]]])"
      ]
     },
     "execution_count": 4,
     "metadata": {},
     "output_type": "execute_result"
    }
   ],
   "source": [
    "array_3d = np.array([1.1, 2.1, 3.1,4.1, 5.1, 6.1,7.1, 8.1, 9.1,10.1, 11.1, 12.1]).reshape(2,2,3)\n",
    "array_3d"
   ]
  },
  {
   "cell_type": "markdown",
   "id": "807acbf6",
   "metadata": {},
   "source": [
    "# Q4: Print the following:\n",
    "Note: use the same array from Q3.\n",
    "- Array's type.\n",
    "- Array's elements datatype.\n",
    "- Array's shape.\n",
    "- Array's size.\n",
    "- Array's dimention."
   ]
  },
  {
   "cell_type": "code",
   "execution_count": 5,
   "id": "6e90d6a0",
   "metadata": {},
   "outputs": [
    {
     "name": "stdout",
     "output_type": "stream",
     "text": [
      "Array's type: <class 'numpy.ndarray'>\n",
      "Array's elements datatype: float64\n",
      "Array's shape: (2, 2, 3)\n",
      "Array's size: 12\n",
      "Array's dimension: 3\n"
     ]
    }
   ],
   "source": [
    "# Printing all properties of the array in one line using f-strings\n",
    "print(f\"Array's type: {type(array_3d)}\\nArray's elements datatype: {array_3d.dtype}\\n\"\n",
    "      f\"Array's shape: {array_3d.shape}\\nArray's size: {array_3d.size}\\n\"\n",
    "      f\"Array's dimension: {array_3d.ndim}\")"
   ]
  },
  {
   "cell_type": "markdown",
   "id": "db4958b5",
   "metadata": {},
   "source": [
    "# Q5:  Change the array dimention from 3-D to 4-D\n",
    "Note: use the same array from Q3.\n",
    "- Create a new array to hold the changes. \n",
    "- Print the new array's dimention and shape."
   ]
  },
  {
   "cell_type": "code",
   "execution_count": 6,
   "id": "e9f5c88c",
   "metadata": {},
   "outputs": [
    {
     "ename": "NameError",
     "evalue": "name 'new_array_4d' is not defined",
     "output_type": "error",
     "traceback": [
      "\u001b[1;31m---------------------------------------------------------------------------\u001b[0m",
      "\u001b[1;31mNameError\u001b[0m                                 Traceback (most recent call last)",
      "Cell \u001b[1;32mIn[6], line 5\u001b[0m\n\u001b[0;32m      2\u001b[0m array_4d \u001b[38;5;241m=\u001b[39m array_3d\u001b[38;5;241m.\u001b[39mreshape(\u001b[38;5;241m2\u001b[39m, \u001b[38;5;241m1\u001b[39m, \u001b[38;5;241m2\u001b[39m, \u001b[38;5;241m3\u001b[39m)\n\u001b[0;32m      4\u001b[0m \u001b[38;5;66;03m#printed the new array and the dimention and shape\u001b[39;00m\n\u001b[1;32m----> 5\u001b[0m \u001b[38;5;28mprint\u001b[39m(\u001b[38;5;124mf\u001b[39m\u001b[38;5;124m\"\u001b[39m\u001b[38;5;124mNew Array \u001b[39m\u001b[38;5;130;01m\\n\u001b[39;00m\u001b[38;5;132;01m{\u001b[39;00marray_4d\u001b[38;5;132;01m}\u001b[39;00m\u001b[38;5;130;01m\\n\u001b[39;00m\u001b[38;5;124mNew array\u001b[39m\u001b[38;5;124m'\u001b[39m\u001b[38;5;124ms dimension: \u001b[39m\u001b[38;5;132;01m{\u001b[39;00mnew_array_4d\u001b[38;5;241m.\u001b[39mndim\u001b[38;5;132;01m}\u001b[39;00m\u001b[38;5;130;01m\\n\u001b[39;00m\u001b[38;5;124m New array\u001b[39m\u001b[38;5;124m'\u001b[39m\u001b[38;5;124ms shape: \u001b[39m\u001b[38;5;132;01m{\u001b[39;00mnew_array_4d\u001b[38;5;241m.\u001b[39mshape\u001b[38;5;132;01m}\u001b[39;00m\u001b[38;5;124m\"\u001b[39m)\n",
      "\u001b[1;31mNameError\u001b[0m: name 'new_array_4d' is not defined"
     ]
    }
   ],
   "source": [
    "#changed the dimention using reshape\n",
    "array_4d = array_3d.reshape(2, 1, 2, 3)\n",
    "\n",
    "#printed the new array and the dimention and shape\n",
    "print(f\"New Array \\n{array_4d}\\nNew array's dimension: {new_array_4d.ndim}\\n New array's shape: {new_array_4d.shape}\")"
   ]
  },
  {
   "cell_type": "markdown",
   "id": "454f2504",
   "metadata": {},
   "source": [
    "# Q6: Change the array's elements datatype to integer  \n",
    "Note: use the same array from Q5.\n",
    "\n",
    "- Create a new array to hold the changes. \n",
    "- Print the new array."
   ]
  },
  {
   "cell_type": "code",
   "execution_count": null,
   "id": "8135b045",
   "metadata": {},
   "outputs": [],
   "source": [
    "#used astype to change the values type to integer\n",
    "array_int = array_4d.astype(int)\n",
    "\n",
    "# Printing the new array with integer values\n",
    "print(f\"New array with integer values:\\n{array_int}\")"
   ]
  },
  {
   "cell_type": "markdown",
   "id": "ab90badc",
   "metadata": {},
   "source": [
    "# Q7: Print all array's elements using for loop\n",
    "Note: use the same array from Q6.\n",
    "\n",
    "Hint: use nditer()"
   ]
  },
  {
   "cell_type": "code",
   "execution_count": null,
   "id": "a0d58d15",
   "metadata": {},
   "outputs": [],
   "source": [
    "print(\"All elements in the int array:\")\n",
    "# Printing all array's elements using a for loop with nditer\n",
    "for element in np.nditer(array_int):\n",
    "    print(element)"
   ]
  },
  {
   "cell_type": "markdown",
   "id": "afa8b5f3",
   "metadata": {},
   "source": [
    "# Q8:  Print number 8 using array slicing\n",
    "Note: use the same array from Q6."
   ]
  },
  {
   "cell_type": "code",
   "execution_count": null,
   "id": "6e12e2d7",
   "metadata": {},
   "outputs": [],
   "source": [
    "print(f\"Number 8: {array_int[1, 0, 0, 1]}\")  # Accessing number 8 at index [1, 0, 0, 1]"
   ]
  },
  {
   "cell_type": "markdown",
   "id": "e2e71895",
   "metadata": {},
   "source": [
    "# Q9: Print number 5 and number 6 using array slicing\n",
    "Note: use the same array from Q6."
   ]
  },
  {
   "cell_type": "code",
   "execution_count": null,
   "id": "c3218bcb",
   "metadata": {},
   "outputs": [],
   "source": [
    "print(f\"Number 5: {array_int[0, 0, 1, 1]}\")# Accessing number 5 at index [0, 1, 1, 1]\n",
    "print(f\"Number 6: {array_int[0, 0, 1, 2]}\")# Accessing number 6 at index [0, 1, 1, 2]"
   ]
  },
  {
   "cell_type": "markdown",
   "id": "e5d63cd3",
   "metadata": {},
   "source": [
    "# Q10: Search for number 8 using where()\n",
    "Note: use the same array from Q6.\n",
    "\n",
    "Note: where() is only used with small data.\n",
    "\n",
    "*the output represents the path of the index that leads to number 8*"
   ]
  },
  {
   "cell_type": "code",
   "execution_count": null,
   "id": "ddaf0146",
   "metadata": {},
   "outputs": [],
   "source": [
    "# Using np.where() to find the index of the number 8\n",
    "# Printing the index\n",
    "print(f\"Index of number 8: {np.where(array_int == 8)}\")"
   ]
  },
  {
   "cell_type": "markdown",
   "id": "c89f41ad",
   "metadata": {},
   "source": [
    "# Q11: Reshape the array as the following\n",
    "\n",
    "    array([[[ 1, 2],\n",
    "            [ 3,  4],\n",
    "            [ 5,  6]],\n",
    "\n",
    "           [[ 7,  8],\n",
    "            [ 9, 10],\n",
    "            [11, 12]]])\n",
    "            \n",
    " Note: use the same array from Q6."
   ]
  },
  {
   "cell_type": "code",
   "execution_count": 41,
   "id": "d9b632bd",
   "metadata": {},
   "outputs": [
    {
     "name": "stdout",
     "output_type": "stream",
     "text": [
      "Reshaped Array:\n",
      "[[[ 1  2]\n",
      "  [ 3  4]\n",
      "  [ 5  6]]\n",
      "\n",
      " [[ 7  8]\n",
      "  [ 9 10]\n",
      "  [11 12]]]\n"
     ]
    }
   ],
   "source": [
    "array_int = array_int.reshape(2, 3, 2)\n",
    "\n",
    "# Printing the reshaped array\n",
    "print(f\"Reshaped Array:\\n{array_int}\")"
   ]
  },
  {
   "cell_type": "markdown",
   "id": "539c16b1",
   "metadata": {},
   "source": [
    "# Q12: Join the given arrays below \n",
    "    arr1 = np.array([['A', 'B'], ['E', 'F']])\n",
    "    arr2 = np.array([['C', 'D'], ['G', 'H']])\n",
    "## Q12.1: Join the arrays without specifying the axis "
   ]
  },
  {
   "cell_type": "code",
   "execution_count": 13,
   "id": "d6acdeaf",
   "metadata": {},
   "outputs": [
    {
     "name": "stdout",
     "output_type": "stream",
     "text": [
      "Joined Array (without specifying axis):[['A' 'B']\n",
      " ['E' 'F']\n",
      " ['C' 'D']\n",
      " ['G' 'H']]\n"
     ]
    }
   ],
   "source": [
    "# Defining the arrays\n",
    "arr1 = np.array([['A', 'B'], ['E', 'F']])\n",
    "arr2 = np.array([['C', 'D'], ['G', 'H']])\n",
    "\n",
    "# Joining the arrays without specifying the axis\n",
    "joined_array = np.concatenate((arr1, arr2))\n",
    "\n",
    "# the result\n",
    "print(f\"Joined Array (without specifying axis):{joined_array}\")"
   ]
  },
  {
   "cell_type": "markdown",
   "id": "1a37dd47",
   "metadata": {},
   "source": [
    "# Q12.2: Join the arrays along rows with axis = 1 "
   ]
  },
  {
   "cell_type": "code",
   "execution_count": 11,
   "id": "b849658c",
   "metadata": {},
   "outputs": [
    {
     "name": "stdout",
     "output_type": "stream",
     "text": [
      "Joined Array (along rows with axis=1):\n",
      "[['A' 'B' 'C' 'D']\n",
      " ['E' 'F' 'G' 'H']]\n"
     ]
    }
   ],
   "source": [
    "# Joining the arrays along rows (axis=1)\n",
    "joined_array_a1 = np.concatenate((arr1, arr2), axis=1)\n",
    "\n",
    "#the result\n",
    "print(f\"Joined Array (along rows with axis=1):\\n{joined_array_a1}\")"
   ]
  },
  {
   "cell_type": "markdown",
   "id": "7296eecf",
   "metadata": {},
   "source": [
    "# Q13: Split the array into two arrays with axis = 1, each array should contain four arrays. \n",
    "Note: use the same array from Q12.1"
   ]
  },
  {
   "cell_type": "code",
   "execution_count": 17,
   "id": "7f7f5e49",
   "metadata": {},
   "outputs": [
    {
     "name": "stdout",
     "output_type": "stream",
     "text": [
      "i split the array into two array: \n",
      "[array([['A'],\n",
      "       ['E'],\n",
      "       ['C'],\n",
      "       ['G']], dtype='<U1'), array([['B'],\n",
      "       ['F'],\n",
      "       ['D'],\n",
      "       ['H']], dtype='<U1')]\n"
     ]
    }
   ],
   "source": [
    "\n",
    "split_arr = np.split(joined_array, 2, axis=1)\n",
    "\n",
    "print(f\"i split the array into two array: \\n{split_arr}\")\n"
   ]
  },
  {
   "cell_type": "code",
   "execution_count": null,
   "id": "89c23694-2b06-4400-9c52-115d97c7deb5",
   "metadata": {},
   "outputs": [],
   "source": []
  }
 ],
 "metadata": {
  "kernelspec": {
   "display_name": "Python 3 (ipykernel)",
   "language": "python",
   "name": "python3"
  },
  "language_info": {
   "codemirror_mode": {
    "name": "ipython",
    "version": 3
   },
   "file_extension": ".py",
   "mimetype": "text/x-python",
   "name": "python",
   "nbconvert_exporter": "python",
   "pygments_lexer": "ipython3",
   "version": "3.12.4"
  }
 },
 "nbformat": 4,
 "nbformat_minor": 5
}
